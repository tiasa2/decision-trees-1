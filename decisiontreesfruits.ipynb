{
 "cells": [
  {
   "cell_type": "code",
   "execution_count": 5,
   "metadata": {},
   "outputs": [
    {
     "data": {
      "text/plain": [
       "{'Mango': 2, 'Grape': 2, 'Lemon': 1}"
      ]
     },
     "execution_count": 5,
     "metadata": {},
     "output_type": "execute_result"
    }
   ],
   "source": [
    "training_data=[\n",
    "    ['Green',3,'Mango'],\n",
    "    ['Yellow',3,'Mango'],\n",
    "    ['Red',1,'Grape'],\n",
    "    ['Red',1,'Grape'],\n",
    "    ['Yellow',3,'Lemon']\n",
    "]\n",
    "header=['colour','diameter','label']\n",
    "def unique_vals(rows,col):\n",
    "    return set([row(col) for row in rows])\n",
    "\n",
    "def class_counts(rows):\n",
    "    counts={}\n",
    "    for row in rows:\n",
    "        label=row[-1]\n",
    "        if label not in counts:\n",
    "            counts[label]=0\n",
    "        counts[label]+=1\n",
    "    return counts\n",
    "class_counts(training_data)"
   ]
  },
  {
   "cell_type": "code",
   "execution_count": 6,
   "metadata": {},
   "outputs": [
    {
     "data": {
      "text/plain": [
       "False"
      ]
     },
     "execution_count": 6,
     "metadata": {},
     "output_type": "execute_result"
    }
   ],
   "source": [
    "def is_numeric(value):\n",
    "    return isinstance(value,int) or isinstance(value,float)\n",
    "is_numeric(7)\n",
    "is_numeric('Red')"
   ]
  },
  {
   "cell_type": "code",
   "execution_count": 18,
   "metadata": {},
   "outputs": [],
   "source": [
    "class Question:\n",
    "    def __init__(self,column,value):\n",
    "        self.column=column\n",
    "        self.value=value\n",
    "    def match(self, example):\n",
    "        val=example[self.column]\n",
    "        if is_numeric(val):\n",
    "            return val>=self.value\n",
    "        else:\n",
    "            return val==self.value\n",
    "    def __repr__(self):\n",
    "        condition='=='\n",
    "        if is_numeric(self_value):\n",
    "            condition='>='\n",
    "        return 'Is %s %s %s?' %(header[self.column],condition,self.value)\n",
    "def partition(rows,question):\n",
    "    true_rows,false_rows=[],[]\n",
    "    for row in rows:\n",
    "        if question.match(row):\n",
    "            true_rows.append(row)\n",
    "        else:\n",
    "            false_rows.append(row)\n",
    "        return true_rows, false_rows\n",
    "            \n",
    "true_rows,false_rows=partition(training_data,question(0,'Red'))\n",
    "\n",
    "def gini(rows):\n",
    "    counts=class_counts(rows)\n",
    "    impurity=1\n",
    "    for lbl in counts:\n",
    "        prob_of_lbl=counts[lbl]/float(len(rows))\n",
    "        impurity-=prob_of_lbl**2\n",
    "    return impurity\n",
    "def info_gain(left,right,current_uncertainity):\n",
    "    p=float(len(left))/(len(left)+len(right))\n",
    "    return current_undertainity-p*gini(left)-(1-p)*gini(right)\n",
    "def find_best_split(rows):\n",
    "    best_gain=0\n",
    "    best_question=None\n",
    "    current_uncertainity=gini(rows)\n",
    "    n_features=len(rows[0])-1\n",
    "    for col in range(n_features):\n",
    "        values=set([row[col] for row in rows])\n",
    "        for val in values:\n",
    "            question=Question(col,val)\n",
    "            true_rows,false_rows=partition(rows,question)\n",
    "            if len(true_rows)==0 or len(false_rows)==0:\n",
    "                continue\n",
    "            gain=info_gain(true_rows,false_rows,current_uncertainity)\n",
    "            if gain>=best_gain:\n",
    "                best_gain,best_question=gain,question\n",
    "    return best_gain,best_question\n",
    "\n",
    "best_gain,best_question=find_best_split(training_data)     "
   ]
  },
  {
   "cell_type": "code",
   "execution_count": 36,
   "metadata": {},
   "outputs": [],
   "source": [
    "class Leaf:\n",
    "    def __init__(self,rows):\n",
    "        self.predictions=class_counts(rows)\n",
    "\n",
    "class Decision_Node:\n",
    "    def __init(self,question,true_branch,false_branch):\n",
    "        self.question=question\n",
    "        self.true_branch=true_branch\n",
    "        self.false_branch=false_branch\n",
    "\n",
    "def build_tree(rows):\n",
    "    gain,question=find_best_split(rows)\n",
    "    if gain==0:\n",
    "        return Leaf(rows)\n",
    "    true_rows,false_rows=partition(rows,question)\n",
    "    true_branch=build_tree(true_rows)\n",
    "    false_branch=build_tree(false_rows)\n",
    "    return Decision_Node(question,true_branch,false_branch)\n",
    "\n",
    "def print_tree(node,spacing=''):\n",
    "    if isinstance(node,Leaf):\n",
    "        print(spacing+'Predict',node.predictions)\n",
    "        return\n",
    "    print(spacing+str(node.question))\n",
    "    print(spacing+'-->True:')\n",
    "    print_tree(node.true_branch,spacing + ' ')\n",
    "    print(spacing+'-->False:')\n",
    "    print_tree(node.false_branch,spacing + ' ')\n",
    "\n",
    "def classify(row,node):\n",
    "    if isinstance(node,Leaf):\n",
    "        return node.predictions\n",
    "    if node.question.match(row):\n",
    "        return classify(row,node.true_branch)\n",
    "    else:\n",
    "        return classify(row,node.false_branch)\n",
    "\n",
    "def print_leaf(counts):\n",
    "    total=sum(counts.values())*1.0\n",
    "    probs={}\n",
    "    for lbl in counts.keys():\n",
    "        probs[lbl]=str(int(counts[lbl]/total*100))+\"%\" \n",
    "    return probs"
   ]
  },
  {
   "cell_type": "code",
   "execution_count": 35,
   "metadata": {},
   "outputs": [
    {
     "name": "stdout",
     "output_type": "stream",
     "text": [
      "Predict {'Mango': 2, 'Grape': 2, 'Lemon': 1}\n",
      "Actual: Mango.Predicted: {'Mango': '40%', 'Grape': '40%', 'Lemon': '20%'}\n",
      "Actual: Mango.Predicted: {'Mango': '40%', 'Grape': '40%', 'Lemon': '20%'}\n",
      "Actual: Grape.Predicted: {'Mango': '40%', 'Grape': '40%', 'Lemon': '20%'}\n",
      "Actual: Grape.Predicted: {'Mango': '40%', 'Grape': '40%', 'Lemon': '20%'}\n",
      "Actual: Lemon.Predicted: {'Mango': '40%', 'Grape': '40%', 'Lemon': '20%'}\n"
     ]
    }
   ],
   "source": [
    "if __name__=='__main__':\n",
    "    my_tree=build_tree(training_data)\n",
    "    print_tree(my_tree)\n",
    "    testing_data=[\n",
    "    ['Green',3,'Mango'],\n",
    "    ['Yellow',4,'Mango'],\n",
    "    ['Red',2,'Grape'],\n",
    "    ['Red',1,'Grape'],\n",
    "    ['Yellow',3,'Lemon']\n",
    "]\n",
    "    for row in testing_data:\n",
    "        print(\"Actual: %s.Predicted: %s\" % (row[-1],print_leaf(classify(row,my_tree))))\n",
    "        "
   ]
  },
  {
   "cell_type": "code",
   "execution_count": null,
   "metadata": {},
   "outputs": [],
   "source": []
  }
 ],
 "metadata": {
  "kernelspec": {
   "display_name": "Python 3",
   "language": "python",
   "name": "python3"
  },
  "language_info": {
   "codemirror_mode": {
    "name": "ipython",
    "version": 3
   },
   "file_extension": ".py",
   "mimetype": "text/x-python",
   "name": "python",
   "nbconvert_exporter": "python",
   "pygments_lexer": "ipython3",
   "version": "3.7.5"
  }
 },
 "nbformat": 4,
 "nbformat_minor": 2
}
